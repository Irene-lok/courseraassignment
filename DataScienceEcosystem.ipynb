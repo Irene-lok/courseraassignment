{
 "cells": [
  {
   "cell_type": "markdown",
   "id": "70df3a6d-6904-437e-a86d-d67b1af34628",
   "metadata": {},
   "source": [
    "# Data Science Tools and Ecosystem"
   ]
  },
  {
   "cell_type": "markdown",
   "id": "ec0823a6-b416-414d-b19e-786116f63488",
   "metadata": {},
   "source": [
    "In this notebook, Data Science Tools and Ecosystem are summarized."
   ]
  },
  {
   "cell_type": "markdown",
   "id": "0e43eb26-0822-4552-af86-c9c30a7e2cc2",
   "metadata": {},
   "source": [
    "**Objectives:**\n",
    "\n",
    "- List popular languages for Data Science.\n",
    "- Introduce commonly used Data Science libraries.\n",
    "- Explain how to evaluate arithmetic expressions in Python.\n",
    "- Demonstrate converting minutes to hours using Python.\n"
   ]
  },
  {
   "cell_type": "markdown",
   "id": "62c10edf-b61c-4803-9838-ed74e6c60169",
   "metadata": {},
   "source": [
    "Some of the popular languages that Data Scientists use are:\n",
    "\n",
    "1. Python\n",
    "2. R\n",
    "3. Julia\n"
   ]
  },
  {
   "cell_type": "markdown",
   "id": "a45a65c3-3a8b-4d47-b90c-6211ded5a85c",
   "metadata": {},
   "source": [
    "Some of the commonly used libraries used by Data Scientists include:\n",
    "\n",
    "1. NumPy\n",
    "2. pandas\n",
    "3. Matplotlib\n",
    "4. scikit-learn"
   ]
  },
  {
   "cell_type": "markdown",
   "id": "73a644a1-a5f5-4cb6-993d-1b7250e9b82b",
   "metadata": {},
   "source": [
    "| Data Science Tools |\n",
    "|---------------------|\n",
    "| Jupyter Notebook    |\n",
    "| RStudio             |\n",
    "| VSCode              |\n"
   ]
  },
  {
   "cell_type": "markdown",
   "id": "5bf5d923-4d06-46ca-8009-31165961dbe6",
   "metadata": {},
   "source": [
    "### Below are a few examples of evaluating arithmetic expressions in Python.\n"
   ]
  },
  {
   "cell_type": "code",
   "execution_count": 2,
   "id": "3044f570-105b-481a-90bd-da4aa1cb8186",
   "metadata": {
    "tags": []
   },
   "outputs": [
    {
     "data": {
      "text/plain": [
       "17"
      ]
     },
     "execution_count": 2,
     "metadata": {},
     "output_type": "execute_result"
    }
   ],
   "source": [
    "# This is a simple arithmetic expression to multiply then add integers.\n",
    "result = (3 * 4) + 5\n",
    "result\n"
   ]
  },
  {
   "cell_type": "code",
   "execution_count": 6,
   "id": "2919a784-683e-4f36-a6ac-19618313fac6",
   "metadata": {
    "tags": []
   },
   "outputs": [
    {
     "data": {
      "text/plain": [
       "3.3333333333333335"
      ]
     },
     "execution_count": 6,
     "metadata": {},
     "output_type": "execute_result"
    }
   ],
   "source": [
    "# This will convert 200 minutes to hours by dividing by 60.\n",
    "minutes = 200\n",
    "hours = minutes / 60 \n",
    "hours\n"
   ]
  },
  {
   "cell_type": "markdown",
   "id": "016be57f-28b6-48d9-a9e5-c6e1ba507411",
   "metadata": {},
   "source": [
    "## Author\n",
    "\n",
    "Irene Chan\n"
   ]
  },
  {
   "cell_type": "code",
   "execution_count": null,
   "id": "1ec2184e-3998-4c10-9dad-c32388486f46",
   "metadata": {},
   "outputs": [],
   "source": []
  }
 ],
 "metadata": {
  "kernelspec": {
   "display_name": "Python 3 (ipykernel)",
   "language": "python",
   "name": "python3"
  },
  "language_info": {
   "codemirror_mode": {
    "name": "ipython",
    "version": 3
   },
   "file_extension": ".py",
   "mimetype": "text/x-python",
   "name": "python",
   "nbconvert_exporter": "python",
   "pygments_lexer": "ipython3",
   "version": "3.9.2"
  }
 },
 "nbformat": 4,
 "nbformat_minor": 5
}
